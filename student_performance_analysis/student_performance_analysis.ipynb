{
 "cells": [
  {
   "cell_type": "markdown",
   "metadata": {},
   "source": [
    "## Introduction\n",
    "\n",
    "This notebook will attempt to analyze high school student's performance in math, reading, and writing. The dataset comes from http://roycekimmons.com/tools/generated_data/exams, and contains the performance data of 1000 students from a public school. In addition, it also contains information regarding their background such as gender, race, lunch plan, whether or not they completed a test preparation course, and their parent's level of education.\n",
    "\n",
    "The notebook will take a look at each factor to see if they play a significant role in a student's academic success in those subjects. In addition, please note that the data used is fictional, so the findings have no significant meaning.\n",
    "\n",
    "Advice and suggestions for improvement would also be greatly appreciated."
   ]
  },
  {
   "cell_type": "markdown",
   "metadata": {},
   "source": [
    "## Factors to look at\n",
    "\n",
    "Factors and questions that the notebook will be looking at are:\n",
    "\n",
    "1. Do students on average score significantly better at a certain subject?\n",
    "2. Do students with a certain gender typically score better on certain subjects than their counterpart?\n",
    "3. Do students of a certain race score better than others?\n",
    "4. On average, does completing a test preparation course increase a student's score?\n",
    "5. If test prep helps, is the group that has the best score also the group that has the highest test preparation course?\n",
    "6. What about whether or not the parents have a degree?\n",
    "7. Do low income students (defined by whether or not they are on a lunch plan) score worse?\n",
    "8. How many students on a lunch plan complete a test preparation course (assuming that the test preparation course costs money)?\n",
    "9. Will it be possible to predict the range of a student's score using Machine Learning?"
   ]
  },
  {
   "cell_type": "code",
   "execution_count": 68,
   "metadata": {
    "collapsed": true
   },
   "outputs": [],
   "source": [
    "# Import the libraries that will be used\n",
    "import numpy as np\n",
    "import pandas as pd\n",
    "from pandas import DataFrame\n",
    "\n",
    "import matplotlib.pyplot as plt\n",
    "import seaborn as sns\n",
    "sns.set_style(\"whitegrid\")\n",
    "%matplotlib inline\n",
    "\n",
    "from sklearn.model_selection import train_test_split\n",
    "from sklearn.linear_model import LogisticRegression\n",
    "from sklearn.metrics import accuracy_score"
   ]
  },
  {
   "cell_type": "code",
   "execution_count": 69,
   "metadata": {
    "collapsed": false
   },
   "outputs": [],
   "source": [
    "# Read the file and put it into a dataframe\n",
    "data = pd.read_csv(\"StudentsPerformance.csv\")"
   ]
  },
  {
   "cell_type": "code",
   "execution_count": 70,
   "metadata": {
    "collapsed": false
   },
   "outputs": [
    {
     "data": {
      "text/html": [
       "<div>\n",
       "<table border=\"1\" class=\"dataframe\">\n",
       "  <thead>\n",
       "    <tr style=\"text-align: right;\">\n",
       "      <th></th>\n",
       "      <th>gender</th>\n",
       "      <th>race/ethnicity</th>\n",
       "      <th>parental level of education</th>\n",
       "      <th>lunch</th>\n",
       "      <th>test preparation course</th>\n",
       "      <th>math score</th>\n",
       "      <th>reading score</th>\n",
       "      <th>writing score</th>\n",
       "    </tr>\n",
       "  </thead>\n",
       "  <tbody>\n",
       "    <tr>\n",
       "      <th>0</th>\n",
       "      <td>female</td>\n",
       "      <td>group B</td>\n",
       "      <td>bachelor's degree</td>\n",
       "      <td>standard</td>\n",
       "      <td>none</td>\n",
       "      <td>72</td>\n",
       "      <td>72</td>\n",
       "      <td>74</td>\n",
       "    </tr>\n",
       "    <tr>\n",
       "      <th>1</th>\n",
       "      <td>female</td>\n",
       "      <td>group C</td>\n",
       "      <td>some college</td>\n",
       "      <td>standard</td>\n",
       "      <td>completed</td>\n",
       "      <td>69</td>\n",
       "      <td>90</td>\n",
       "      <td>88</td>\n",
       "    </tr>\n",
       "    <tr>\n",
       "      <th>2</th>\n",
       "      <td>female</td>\n",
       "      <td>group B</td>\n",
       "      <td>master's degree</td>\n",
       "      <td>standard</td>\n",
       "      <td>none</td>\n",
       "      <td>90</td>\n",
       "      <td>95</td>\n",
       "      <td>93</td>\n",
       "    </tr>\n",
       "    <tr>\n",
       "      <th>3</th>\n",
       "      <td>male</td>\n",
       "      <td>group A</td>\n",
       "      <td>associate's degree</td>\n",
       "      <td>free/reduced</td>\n",
       "      <td>none</td>\n",
       "      <td>47</td>\n",
       "      <td>57</td>\n",
       "      <td>44</td>\n",
       "    </tr>\n",
       "    <tr>\n",
       "      <th>4</th>\n",
       "      <td>male</td>\n",
       "      <td>group C</td>\n",
       "      <td>some college</td>\n",
       "      <td>standard</td>\n",
       "      <td>none</td>\n",
       "      <td>76</td>\n",
       "      <td>78</td>\n",
       "      <td>75</td>\n",
       "    </tr>\n",
       "  </tbody>\n",
       "</table>\n",
       "</div>"
      ],
      "text/plain": [
       "   gender race/ethnicity parental level of education         lunch  \\\n",
       "0  female        group B           bachelor's degree      standard   \n",
       "1  female        group C                some college      standard   \n",
       "2  female        group B             master's degree      standard   \n",
       "3    male        group A          associate's degree  free/reduced   \n",
       "4    male        group C                some college      standard   \n",
       "\n",
       "  test preparation course  math score  reading score  writing score  \n",
       "0                    none          72             72             74  \n",
       "1               completed          69             90             88  \n",
       "2                    none          90             95             93  \n",
       "3                    none          47             57             44  \n",
       "4                    none          76             78             75  "
      ]
     },
     "execution_count": 70,
     "metadata": {},
     "output_type": "execute_result"
    }
   ],
   "source": [
    "# Get a general overview of the data\n",
    "data.head()"
   ]
  },
  {
   "cell_type": "code",
   "execution_count": 71,
   "metadata": {
    "collapsed": false
   },
   "outputs": [
    {
     "name": "stdout",
     "output_type": "stream",
     "text": [
      "<class 'pandas.core.frame.DataFrame'>\n",
      "RangeIndex: 1000 entries, 0 to 999\n",
      "Data columns (total 8 columns):\n",
      "gender                         1000 non-null object\n",
      "race/ethnicity                 1000 non-null object\n",
      "parental level of education    1000 non-null object\n",
      "lunch                          1000 non-null object\n",
      "test preparation course        1000 non-null object\n",
      "math score                     1000 non-null int64\n",
      "reading score                  1000 non-null int64\n",
      "writing score                  1000 non-null int64\n",
      "dtypes: int64(3), object(5)\n",
      "memory usage: 62.6+ KB\n"
     ]
    }
   ],
   "source": [
    "data.info()"
   ]
  },
  {
   "cell_type": "code",
   "execution_count": 72,
   "metadata": {
    "collapsed": false
   },
   "outputs": [
    {
     "data": {
      "text/html": [
       "<div>\n",
       "<table border=\"1\" class=\"dataframe\">\n",
       "  <thead>\n",
       "    <tr style=\"text-align: right;\">\n",
       "      <th></th>\n",
       "      <th>math score</th>\n",
       "      <th>reading score</th>\n",
       "      <th>writing score</th>\n",
       "    </tr>\n",
       "  </thead>\n",
       "  <tbody>\n",
       "    <tr>\n",
       "      <th>count</th>\n",
       "      <td>1000.00000</td>\n",
       "      <td>1000.000000</td>\n",
       "      <td>1000.000000</td>\n",
       "    </tr>\n",
       "    <tr>\n",
       "      <th>mean</th>\n",
       "      <td>66.08900</td>\n",
       "      <td>69.169000</td>\n",
       "      <td>68.054000</td>\n",
       "    </tr>\n",
       "    <tr>\n",
       "      <th>std</th>\n",
       "      <td>15.16308</td>\n",
       "      <td>14.600192</td>\n",
       "      <td>15.195657</td>\n",
       "    </tr>\n",
       "    <tr>\n",
       "      <th>min</th>\n",
       "      <td>0.00000</td>\n",
       "      <td>17.000000</td>\n",
       "      <td>10.000000</td>\n",
       "    </tr>\n",
       "    <tr>\n",
       "      <th>25%</th>\n",
       "      <td>57.00000</td>\n",
       "      <td>59.000000</td>\n",
       "      <td>57.750000</td>\n",
       "    </tr>\n",
       "    <tr>\n",
       "      <th>50%</th>\n",
       "      <td>66.00000</td>\n",
       "      <td>70.000000</td>\n",
       "      <td>69.000000</td>\n",
       "    </tr>\n",
       "    <tr>\n",
       "      <th>75%</th>\n",
       "      <td>77.00000</td>\n",
       "      <td>79.000000</td>\n",
       "      <td>79.000000</td>\n",
       "    </tr>\n",
       "    <tr>\n",
       "      <th>max</th>\n",
       "      <td>100.00000</td>\n",
       "      <td>100.000000</td>\n",
       "      <td>100.000000</td>\n",
       "    </tr>\n",
       "  </tbody>\n",
       "</table>\n",
       "</div>"
      ],
      "text/plain": [
       "       math score  reading score  writing score\n",
       "count  1000.00000    1000.000000    1000.000000\n",
       "mean     66.08900      69.169000      68.054000\n",
       "std      15.16308      14.600192      15.195657\n",
       "min       0.00000      17.000000      10.000000\n",
       "25%      57.00000      59.000000      57.750000\n",
       "50%      66.00000      70.000000      69.000000\n",
       "75%      77.00000      79.000000      79.000000\n",
       "max     100.00000     100.000000     100.000000"
      ]
     },
     "execution_count": 72,
     "metadata": {},
     "output_type": "execute_result"
    }
   ],
   "source": [
    "data.describe()"
   ]
  },
  {
   "cell_type": "code",
   "execution_count": 73,
   "metadata": {
    "collapsed": false
   },
   "outputs": [
    {
     "data": {
      "text/plain": [
       "<matplotlib.text.Text at 0x1e2d698d8d0>"
      ]
     },
     "execution_count": 73,
     "metadata": {},
     "output_type": "execute_result"
    },
    {
     "data": {
      "image/png": "[encoded data removed]",
      "text/plain": [
       "<matplotlib.figure.Figure at 0x1e2d68e9668>"
      ]
     },
     "metadata": {},
     "output_type": "display_data"
    }
   ],
   "source": [
    "# Quick box plot of the data\n",
    "boxplot = data.boxplot(patch_artist=True)\n",
    "plt.title(\"Box plot of scores\")\n",
    "plt.ylabel(\"Points\")"
   ]
  },
  {
   "cell_type": "code",
   "execution_count": 74,
   "metadata": {
    "collapsed": false
   },
   "outputs": [
    {
     "data": {
      "text/plain": [
       "<matplotlib.legend.Legend at 0x1e2d64ed978>"
      ]
     },
     "execution_count": 74,
     "metadata": {},
     "output_type": "execute_result"
    },
    {
     "data": {
      "image/png": "[encoded data removed]",
      "text/plain": [
       "<matplotlib.figure.Figure at 0x1e2d695e630>"
      ]
     },
     "metadata": {},
     "output_type": "display_data"
    }
   ],
   "source": [
    "# Histogram of the scores for the three subjects\n",
    "plt.hist(\"math score\", data=data, alpha=0.5, bins=25)\n",
    "plt.hist(\"reading score\", data=data, alpha=0.5, bins=25)\n",
    "plt.hist(\"writing score\", data=data, alpha=0.5, bins=25)\n",
    "plt.xlabel(\"Score\")\n",
    "plt.ylabel(\"Count\")\n",
    "plt.title(\"Score Distributions Among the Three Subjects\")\n",
    "plt.legend([\"Math\", \"Reading\", \"Writing\"])"
   ]
  },
  {
   "cell_type": "code",
   "execution_count": 75,
   "metadata": {
    "collapsed": false
   },
   "outputs": [
    {
     "data": {
      "text/html": [
       "<div>\n",
       "<table border=\"1\" class=\"dataframe\">\n",
       "  <thead>\n",
       "    <tr style=\"text-align: right;\">\n",
       "      <th></th>\n",
       "      <th>gender</th>\n",
       "      <th>race/ethnicity</th>\n",
       "      <th>parental level of education</th>\n",
       "      <th>lunch</th>\n",
       "      <th>test preparation course</th>\n",
       "      <th>math score</th>\n",
       "      <th>reading score</th>\n",
       "      <th>writing score</th>\n",
       "      <th>Cumulative Score</th>\n",
       "    </tr>\n",
       "  </thead>\n",
       "  <tbody>\n",
       "    <tr>\n",
       "      <th>0</th>\n",
       "      <td>female</td>\n",
       "      <td>group B</td>\n",
       "      <td>bachelor's degree</td>\n",
       "      <td>standard</td>\n",
       "      <td>none</td>\n",
       "      <td>72</td>\n",
       "      <td>72</td>\n",
       "      <td>74</td>\n",
       "      <td>218</td>\n",
       "    </tr>\n",
       "    <tr>\n",
       "      <th>1</th>\n",
       "      <td>female</td>\n",
       "      <td>group C</td>\n",
       "      <td>some college</td>\n",
       "      <td>standard</td>\n",
       "      <td>completed</td>\n",
       "      <td>69</td>\n",
       "      <td>90</td>\n",
       "      <td>88</td>\n",
       "      <td>247</td>\n",
       "    </tr>\n",
       "    <tr>\n",
       "      <th>2</th>\n",
       "      <td>female</td>\n",
       "      <td>group B</td>\n",
       "      <td>master's degree</td>\n",
       "      <td>standard</td>\n",
       "      <td>none</td>\n",
       "      <td>90</td>\n",
       "      <td>95</td>\n",
       "      <td>93</td>\n",
       "      <td>278</td>\n",
       "    </tr>\n",
       "    <tr>\n",
       "      <th>3</th>\n",
       "      <td>male</td>\n",
       "      <td>group A</td>\n",
       "      <td>associate's degree</td>\n",
       "      <td>free/reduced</td>\n",
       "      <td>none</td>\n",
       "      <td>47</td>\n",
       "      <td>57</td>\n",
       "      <td>44</td>\n",
       "      <td>148</td>\n",
       "    </tr>\n",
       "    <tr>\n",
       "      <th>4</th>\n",
       "      <td>male</td>\n",
       "      <td>group C</td>\n",
       "      <td>some college</td>\n",
       "      <td>standard</td>\n",
       "      <td>none</td>\n",
       "      <td>76</td>\n",
       "      <td>78</td>\n",
       "      <td>75</td>\n",
       "      <td>229</td>\n",
       "    </tr>\n",
       "  </tbody>\n",
       "</table>\n",
       "</div>"
      ],
      "text/plain": [
       "   gender race/ethnicity parental level of education         lunch  \\\n",
       "0  female        group B           bachelor's degree      standard   \n",
       "1  female        group C                some college      standard   \n",
       "2  female        group B             master's degree      standard   \n",
       "3    male        group A          associate's degree  free/reduced   \n",
       "4    male        group C                some college      standard   \n",
       "\n",
       "  test preparation course  math score  reading score  writing score  \\\n",
       "0                    none          72             72             74   \n",
       "1               completed          69             90             88   \n",
       "2                    none          90             95             93   \n",
       "3                    none          47             57             44   \n",
       "4                    none          76             78             75   \n",
       "\n",
       "   Cumulative Score  \n",
       "0               218  \n",
       "1               247  \n",
       "2               278  \n",
       "3               148  \n",
       "4               229  "
      ]
     },
     "execution_count": 75,
     "metadata": {},
     "output_type": "execute_result"
    }
   ],
   "source": [
    "# Add a column for the cumulative score\n",
    "data[\"Cumulative Score\"] = data[\"math score\"] + data[\"reading score\"] + data[\"writing score\"]\n",
    "data.head()"
   ]
  },
  {
   "cell_type": "code",
   "execution_count": 76,
   "metadata": {
    "collapsed": false
   },
   "outputs": [
    {
     "data": {
      "text/plain": [
       "<matplotlib.text.Text at 0x1e2d6715358>"
      ]
     },
     "execution_count": 76,
     "metadata": {},
     "output_type": "execute_result"
    },
    {
     "data": {
      "image/png": "[encoded data removed]",
      "text/plain": [
       "<matplotlib.figure.Figure at 0x1e2d6850860>"
      ]
     },
     "metadata": {},
     "output_type": "display_data"
    }
   ],
   "source": [
    "# Boxplot of the cumulative score\n",
    "data.boxplot(\"Cumulative Score\", patch_artist=True)\n",
    "plt.title(\"Box plot of Cumulative Score\")\n",
    "plt.ylabel(\"Points\")"
   ]
  },
  {
   "cell_type": "code",
   "execution_count": 77,
   "metadata": {
    "collapsed": false
   },
   "outputs": [
    {
     "name": "stdout",
     "output_type": "stream",
     "text": [
      "Mean: 203.31 \n",
      "Std: 42.77\n"
     ]
    }
   ],
   "source": [
    "# Find the mean and standard deviation of the cumulative score\n",
    "print(\"Mean: %.2f \\nStd: %.2f\" %(data[\"Cumulative Score\"].mean(), data[\"Cumulative Score\"].std()))"
   ]
  },
  {
   "cell_type": "markdown",
   "metadata": {},
   "source": [
    "## Quick Glance\n",
    "\n",
    "From a quick glance at the data, there are no null values that will need to be accounted for, and students generally score the highest in the reading section with the math section being the lowest. However, all of the subjects score roughly the same at around the 60-80 range, and the score distribution forms a bell curve like shape. When looking at cumulative scores, the standard deviation is much higher and a student's score can range from around 150-250 on average. The mean for the cumulative scores are around 203.31 with a standard deviation of around 42.77.\n",
    "\n",
    "Some points that would be interesting to see are if this holds true for all genders, races, etc."
   ]
  },
  {
   "cell_type": "code",
   "execution_count": 78,
   "metadata": {
    "collapsed": false
   },
   "outputs": [],
   "source": [
    "# Create a function to quickly group the data by a certain field and returns the mean scores\n",
    "# In addition, it plots a histogram of the mean math, reading, writing, and cumulative scores\n",
    "# Inputs are the dataframe, the groupby field, and a colorset\n",
    "def group_scores(df, groupby_field, **colors):\n",
    "    df = df[[groupby_field, \"math score\", \"reading score\", \"writing score\", \"Cumulative Score\"]].groupby(groupby_field)\n",
    "    df = DataFrame(np.transpose(df.mean()))\n",
    "    df.index = [\"Math\", \"Reading\", \"Writing\", \"Cumulative\"]\n",
    "\n",
    "    if colors.get(\"color\"):\n",
    "        df.plot(kind=\"bar\", rot=0, color=colors.get(\"color\"))\n",
    "    else:\n",
    "        df.plot(kind=\"bar\", rot=0, cmap=colors.get(\"color\"))\n",
    "\n",
    "    plt.title(\"Mean scores based on \" + groupby_field)\n",
    "    plt.ylabel(\"Mean Scores\")\n",
    "    plt.legend(loc=\"upper center\")\n",
    "    return df"
   ]
  },
  {
   "cell_type": "markdown",
   "metadata": {},
   "source": [
    "## Analysis Based on Gender"
   ]
  },
  {
   "cell_type": "code",
   "execution_count": 79,
   "metadata": {
    "collapsed": false
   },
   "outputs": [
    {
     "data": {
      "text/plain": [
       "female    518\n",
       "male      482\n",
       "Name: gender, dtype: int64"
      ]
     },
     "execution_count": 79,
     "metadata": {},
     "output_type": "execute_result"
    }
   ],
   "source": [
    "# Making sure that there is enough data for both genders\n",
    "data[\"gender\"].value_counts()"
   ]
  },
  {
   "cell_type": "code",
   "execution_count": 80,
   "metadata": {
    "collapsed": false
   },
   "outputs": [
    {
     "data": {
      "image/png": "[encoded data removed]",
      "text/plain": [
       "<matplotlib.figure.Figure at 0x1e2d684a748>"
      ]
     },
     "metadata": {},
     "output_type": "display_data"
    }
   ],
   "source": [
    "# Create the plot using the function\n",
    "gender_scores = group_scores(data, \"gender\", color=[\"magenta\", \"blue\"])"
   ]
  },
  {
   "cell_type": "code",
   "execution_count": 81,
   "metadata": {
    "collapsed": false
   },
   "outputs": [
    {
     "data": {
      "text/html": [
       "<div>\n",
       "<table border=\"1\" class=\"dataframe\">\n",
       "  <thead>\n",
       "    <tr style=\"text-align: right;\">\n",
       "      <th>gender</th>\n",
       "      <th>female</th>\n",
       "      <th>male</th>\n",
       "    </tr>\n",
       "  </thead>\n",
       "  <tbody>\n",
       "    <tr>\n",
       "      <th>Math</th>\n",
       "      <td>63.633205</td>\n",
       "      <td>68.728216</td>\n",
       "    </tr>\n",
       "    <tr>\n",
       "      <th>Reading</th>\n",
       "      <td>72.608108</td>\n",
       "      <td>65.473029</td>\n",
       "    </tr>\n",
       "    <tr>\n",
       "      <th>Writing</th>\n",
       "      <td>72.467181</td>\n",
       "      <td>63.311203</td>\n",
       "    </tr>\n",
       "    <tr>\n",
       "      <th>Cumulative</th>\n",
       "      <td>208.708494</td>\n",
       "      <td>197.512448</td>\n",
       "    </tr>\n",
       "  </tbody>\n",
       "</table>\n",
       "</div>"
      ],
      "text/plain": [
       "gender          female        male\n",
       "Math         63.633205   68.728216\n",
       "Reading      72.608108   65.473029\n",
       "Writing      72.467181   63.311203\n",
       "Cumulative  208.708494  197.512448"
      ]
     },
     "execution_count": 81,
     "metadata": {},
     "output_type": "execute_result"
    }
   ],
   "source": [
    "# Print the mean scores for each section\n",
    "gender_scores"
   ]
  },
  {
   "cell_type": "markdown",
   "metadata": {},
   "source": [
    "From the results, males scored better on average than their female counterparts in the math section. However, in the reading and writing section, females scored better than males. Males on average being stronger in math may be one of the reasons why there are typically males in STEM fields.\n",
    "\n",
    "Overall, females score higher than males by around ~11 points."
   ]
  },
  {
   "cell_type": "markdown",
   "metadata": {},
   "source": [
    "## Analysis Based on Race"
   ]
  },
  {
   "cell_type": "code",
   "execution_count": 82,
   "metadata": {
    "collapsed": false
   },
   "outputs": [
    {
     "data": {
      "text/plain": [
       "group C    319\n",
       "group D    262\n",
       "group B    190\n",
       "group E    140\n",
       "group A     89\n",
       "Name: race/ethnicity, dtype: int64"
      ]
     },
     "execution_count": 82,
     "metadata": {},
     "output_type": "execute_result"
    }
   ],
   "source": [
    "# Check the counts for the race ot make sure there is a good distribution in the data\n",
    "data[\"race/ethnicity\"].value_counts()"
   ]
  },
  {
   "cell_type": "code",
   "execution_count": 83,
   "metadata": {
    "collapsed": false
   },
   "outputs": [
    {
     "data": {
      "image/png": "[encoded data removed]",
      "text/plain": [
       "<matplotlib.figure.Figure at 0x1e2d6609128>"
      ]
     },
     "metadata": {},
     "output_type": "display_data"
    }
   ],
   "source": [
    "# Plot\n",
    "race_scores = group_scores(data, \"race/ethnicity\", cmap=\"set1\")"
   ]
  },
  {
   "cell_type": "code",
   "execution_count": 84,
   "metadata": {
    "collapsed": false
   },
   "outputs": [
    {
     "data": {
      "text/html": [
       "<div>\n",
       "<table border=\"1\" class=\"dataframe\">\n",
       "  <thead>\n",
       "    <tr style=\"text-align: right;\">\n",
       "      <th>race/ethnicity</th>\n",
       "      <th>group A</th>\n",
       "      <th>group B</th>\n",
       "      <th>group C</th>\n",
       "      <th>group D</th>\n",
       "      <th>group E</th>\n",
       "    </tr>\n",
       "  </thead>\n",
       "  <tbody>\n",
       "    <tr>\n",
       "      <th>Math</th>\n",
       "      <td>61.629213</td>\n",
       "      <td>63.452632</td>\n",
       "      <td>64.463950</td>\n",
       "      <td>67.362595</td>\n",
       "      <td>73.821429</td>\n",
       "    </tr>\n",
       "    <tr>\n",
       "      <th>Reading</th>\n",
       "      <td>64.674157</td>\n",
       "      <td>67.352632</td>\n",
       "      <td>69.103448</td>\n",
       "      <td>70.030534</td>\n",
       "      <td>73.028571</td>\n",
       "    </tr>\n",
       "    <tr>\n",
       "      <th>Writing</th>\n",
       "      <td>62.674157</td>\n",
       "      <td>65.600000</td>\n",
       "      <td>67.827586</td>\n",
       "      <td>70.145038</td>\n",
       "      <td>71.407143</td>\n",
       "    </tr>\n",
       "    <tr>\n",
       "      <th>Cumulative</th>\n",
       "      <td>188.977528</td>\n",
       "      <td>196.405263</td>\n",
       "      <td>201.394984</td>\n",
       "      <td>207.538168</td>\n",
       "      <td>218.257143</td>\n",
       "    </tr>\n",
       "  </tbody>\n",
       "</table>\n",
       "</div>"
      ],
      "text/plain": [
       "race/ethnicity     group A     group B     group C     group D     group E\n",
       "Math             61.629213   63.452632   64.463950   67.362595   73.821429\n",
       "Reading          64.674157   67.352632   69.103448   70.030534   73.028571\n",
       "Writing          62.674157   65.600000   67.827586   70.145038   71.407143\n",
       "Cumulative      188.977528  196.405263  201.394984  207.538168  218.257143"
      ]
     },
     "execution_count": 84,
     "metadata": {},
     "output_type": "execute_result"
    }
   ],
   "source": [
    "# Print the mean scores in table format\n",
    "race_scores"
   ]
  },
  {
   "cell_type": "markdown",
   "metadata": {},
   "source": [
    "On average, it seems that group E scores the highest on all three subjects and group A scores the lowest. Perhaps this is because group E has a larger percentage of people that took a test perparation course. \n",
    "\n",
    "It will be interesting to see later on if the students that completed the test preparation course have higher scores, and whether or not group E has the highest percentage of students that completed the course."
   ]
  },
  {
   "cell_type": "markdown",
   "metadata": {},
   "source": [
    "## Analysis Based on Completion of Test Preparation Course"
   ]
  },
  {
   "cell_type": "code",
   "execution_count": 85,
   "metadata": {
    "collapsed": false
   },
   "outputs": [
    {
     "data": {
      "text/plain": [
       "none         642\n",
       "completed    358\n",
       "Name: test preparation course, dtype: int64"
      ]
     },
     "execution_count": 85,
     "metadata": {},
     "output_type": "execute_result"
    }
   ],
   "source": [
    "# Check the counts\n",
    "data[\"test preparation course\"].value_counts()"
   ]
  },
  {
   "cell_type": "code",
   "execution_count": 86,
   "metadata": {
    "collapsed": false
   },
   "outputs": [
    {
     "data": {
      "image/png": "[encoded data removed]",
      "text/plain": [
       "<matplotlib.figure.Figure at 0x1e2d68e99e8>"
      ]
     },
     "metadata": {},
     "output_type": "display_data"
    }
   ],
   "source": [
    "# Plot\n",
    "test_prep_scores = group_scores(data, \"test preparation course\", cmap=\"set1\")"
   ]
  },
  {
   "cell_type": "code",
   "execution_count": 87,
   "metadata": {
    "collapsed": false
   },
   "outputs": [
    {
     "data": {
      "text/html": [
       "<div>\n",
       "<table border=\"1\" class=\"dataframe\">\n",
       "  <thead>\n",
       "    <tr style=\"text-align: right;\">\n",
       "      <th>test preparation course</th>\n",
       "      <th>completed</th>\n",
       "      <th>none</th>\n",
       "    </tr>\n",
       "  </thead>\n",
       "  <tbody>\n",
       "    <tr>\n",
       "      <th>Math</th>\n",
       "      <td>69.695531</td>\n",
       "      <td>64.077882</td>\n",
       "    </tr>\n",
       "    <tr>\n",
       "      <th>Reading</th>\n",
       "      <td>73.893855</td>\n",
       "      <td>66.534268</td>\n",
       "    </tr>\n",
       "    <tr>\n",
       "      <th>Writing</th>\n",
       "      <td>74.418994</td>\n",
       "      <td>64.504673</td>\n",
       "    </tr>\n",
       "    <tr>\n",
       "      <th>Cumulative</th>\n",
       "      <td>218.008380</td>\n",
       "      <td>195.116822</td>\n",
       "    </tr>\n",
       "  </tbody>\n",
       "</table>\n",
       "</div>"
      ],
      "text/plain": [
       "test preparation course   completed        none\n",
       "Math                      69.695531   64.077882\n",
       "Reading                   73.893855   66.534268\n",
       "Writing                   74.418994   64.504673\n",
       "Cumulative               218.008380  195.116822"
      ]
     },
     "execution_count": 87,
     "metadata": {},
     "output_type": "execute_result"
    }
   ],
   "source": [
    "# Print\n",
    "test_prep_scores"
   ]
  },
  {
   "cell_type": "markdown",
   "metadata": {},
   "source": [
    "It seems that students that completed the test preparation course score higher than those that did not. This makes sense since those students are expected to learn more and have more experience in solving related problems. It may also be the case that students that completed the course studied more than those that did not. The data also shows that the test preparation course is working as intended, and may not necessarily be a waste of money."
   ]
  },
  {
   "cell_type": "markdown",
   "metadata": {},
   "source": [
    "## Percentage of Students per Group That Completed a Test Preparation Course"
   ]
  },
  {
   "cell_type": "code",
   "execution_count": 88,
   "metadata": {
    "collapsed": false
   },
   "outputs": [],
   "source": [
    "# Group by race and test prep course\n",
    "group_race_test_counts = data[[\"race/ethnicity\", \"test preparation course\"]].groupby([\"race/ethnicity\", \"test preparation course\"])"
   ]
  },
  {
   "cell_type": "code",
   "execution_count": 89,
   "metadata": {
    "collapsed": false
   },
   "outputs": [],
   "source": [
    "# Get the counts using size() and make it into a dataframe\n",
    "group_race_test_counts = DataFrame(group_race_test_counts.size().reset_index(name=\"Counts\")).set_index(\"race/ethnicity\")"
   ]
  },
  {
   "cell_type": "code",
   "execution_count": 90,
   "metadata": {
    "collapsed": false
   },
   "outputs": [],
   "source": [
    "# Get total number of students in each race that completed test prep\n",
    "group_race_test_sums = group_race_test_counts.groupby(group_race_test_counts.index).sum()"
   ]
  },
  {
   "cell_type": "code",
   "execution_count": 91,
   "metadata": {
    "collapsed": false
   },
   "outputs": [],
   "source": [
    "# Rename column\n",
    "group_race_test_sums.columns = [\"Total Num\"]"
   ]
  },
  {
   "cell_type": "code",
   "execution_count": 92,
   "metadata": {
    "collapsed": false
   },
   "outputs": [],
   "source": [
    "# Join the data\n",
    "group_race_test = pd.concat([group_race_test_counts, group_race_test_sums], axis=1, join=\"inner\")"
   ]
  },
  {
   "cell_type": "code",
   "execution_count": 93,
   "metadata": {
    "collapsed": false
   },
   "outputs": [],
   "source": [
    "# Create a new column for the percentage of students\n",
    "group_race_test[\"Percentage\"] = np.round(group_race_test[\"Counts\"]/group_race_test[\"Total Num\"], 2)"
   ]
  },
  {
   "cell_type": "code",
   "execution_count": 94,
   "metadata": {
    "collapsed": false
   },
   "outputs": [
    {
     "data": {
      "text/html": [
       "<div>\n",
       "<table border=\"1\" class=\"dataframe\">\n",
       "  <thead>\n",
       "    <tr style=\"text-align: right;\">\n",
       "      <th></th>\n",
       "      <th>test preparation course</th>\n",
       "      <th>Counts</th>\n",
       "      <th>Total Num</th>\n",
       "      <th>Percentage</th>\n",
       "    </tr>\n",
       "    <tr>\n",
       "      <th>race/ethnicity</th>\n",
       "      <th></th>\n",
       "      <th></th>\n",
       "      <th></th>\n",
       "      <th></th>\n",
       "    </tr>\n",
       "  </thead>\n",
       "  <tbody>\n",
       "    <tr>\n",
       "      <th>group A</th>\n",
       "      <td>completed</td>\n",
       "      <td>31</td>\n",
       "      <td>89</td>\n",
       "      <td>0.35</td>\n",
       "    </tr>\n",
       "    <tr>\n",
       "      <th>group B</th>\n",
       "      <td>completed</td>\n",
       "      <td>68</td>\n",
       "      <td>190</td>\n",
       "      <td>0.36</td>\n",
       "    </tr>\n",
       "    <tr>\n",
       "      <th>group C</th>\n",
       "      <td>completed</td>\n",
       "      <td>117</td>\n",
       "      <td>319</td>\n",
       "      <td>0.37</td>\n",
       "    </tr>\n",
       "    <tr>\n",
       "      <th>group D</th>\n",
       "      <td>completed</td>\n",
       "      <td>82</td>\n",
       "      <td>262</td>\n",
       "      <td>0.31</td>\n",
       "    </tr>\n",
       "    <tr>\n",
       "      <th>group E</th>\n",
       "      <td>completed</td>\n",
       "      <td>60</td>\n",
       "      <td>140</td>\n",
       "      <td>0.43</td>\n",
       "    </tr>\n",
       "  </tbody>\n",
       "</table>\n",
       "</div>"
      ],
      "text/plain": [
       "               test preparation course  Counts  Total Num  Percentage\n",
       "race/ethnicity                                                       \n",
       "group A                      completed      31         89        0.35\n",
       "group B                      completed      68        190        0.36\n",
       "group C                      completed     117        319        0.37\n",
       "group D                      completed      82        262        0.31\n",
       "group E                      completed      60        140        0.43"
      ]
     },
     "execution_count": 94,
     "metadata": {},
     "output_type": "execute_result"
    }
   ],
   "source": [
    "# Print out the percentages for each group that completed the test prep score\n",
    "group_race_test[group_race_test[\"test preparation course\"] == \"completed\"]"
   ]
  },
  {
   "cell_type": "markdown",
   "metadata": {},
   "source": [
    "When analyzing the races, group E scored the highest in all subjects. In addition, when comparing the students that completed a test preparation course with those that did not, it was shown that test preparation courses helped improve scores on average.\n",
    "\n",
    "Looking at the percentage of students from each group that completed the test preparation score, group E had the highest percentage of students that completed the course. This may be the one reason why group E scored the highest out of all the groups.\n",
    "\n",
    "Surprisingly, group D had the lowest percentage of completion yet they scored the second highest out of all the groups in all subjects. This may be due to group D studying a significant amount more than group A, B, and C despite having a lower percentage of students that completed the test preparation course."
   ]
  },
  {
   "cell_type": "markdown",
   "metadata": {},
   "source": [
    "## Analysis on Parent's Educational Background and Student Scores"
   ]
  },
  {
   "cell_type": "code",
   "execution_count": 95,
   "metadata": {
    "collapsed": false
   },
   "outputs": [
    {
     "data": {
      "text/plain": [
       "some college          226\n",
       "associate's degree    222\n",
       "high school           196\n",
       "some high school      179\n",
       "bachelor's degree     118\n",
       "master's degree        59\n",
       "Name: parental level of education, dtype: int64"
      ]
     },
     "execution_count": 95,
     "metadata": {},
     "output_type": "execute_result"
    }
   ],
   "source": [
    "# Counts\n",
    "data[\"parental level of education\"].value_counts()"
   ]
  },
  {
   "cell_type": "code",
   "execution_count": 96,
   "metadata": {
    "collapsed": false
   },
   "outputs": [
    {
     "data": {
      "image/png": "[encoded data removed]",
      "text/plain": [
       "<matplotlib.figure.Figure at 0x1e2d758d630>"
      ]
     },
     "metadata": {},
     "output_type": "display_data"
    }
   ],
   "source": [
    "# Plot\n",
    "parent_ed_scores = group_scores(data, \"parental level of education\", cmap=\"set1\")"
   ]
  },
  {
   "cell_type": "code",
   "execution_count": 97,
   "metadata": {
    "collapsed": false
   },
   "outputs": [
    {
     "data": {
      "text/html": [
       "<div>\n",
       "<table border=\"1\" class=\"dataframe\">\n",
       "  <thead>\n",
       "    <tr style=\"text-align: right;\">\n",
       "      <th>parental level of education</th>\n",
       "      <th>associate's degree</th>\n",
       "      <th>bachelor's degree</th>\n",
       "      <th>high school</th>\n",
       "      <th>master's degree</th>\n",
       "      <th>some college</th>\n",
       "      <th>some high school</th>\n",
       "    </tr>\n",
       "  </thead>\n",
       "  <tbody>\n",
       "    <tr>\n",
       "      <th>Math</th>\n",
       "      <td>67.882883</td>\n",
       "      <td>69.389831</td>\n",
       "      <td>62.137755</td>\n",
       "      <td>69.745763</td>\n",
       "      <td>67.128319</td>\n",
       "      <td>63.497207</td>\n",
       "    </tr>\n",
       "    <tr>\n",
       "      <th>Reading</th>\n",
       "      <td>70.927928</td>\n",
       "      <td>73.000000</td>\n",
       "      <td>64.704082</td>\n",
       "      <td>75.372881</td>\n",
       "      <td>69.460177</td>\n",
       "      <td>66.938547</td>\n",
       "    </tr>\n",
       "    <tr>\n",
       "      <th>Writing</th>\n",
       "      <td>69.896396</td>\n",
       "      <td>73.381356</td>\n",
       "      <td>62.448980</td>\n",
       "      <td>75.677966</td>\n",
       "      <td>68.840708</td>\n",
       "      <td>64.888268</td>\n",
       "    </tr>\n",
       "    <tr>\n",
       "      <th>Cumulative</th>\n",
       "      <td>208.707207</td>\n",
       "      <td>215.771186</td>\n",
       "      <td>189.290816</td>\n",
       "      <td>220.796610</td>\n",
       "      <td>205.429204</td>\n",
       "      <td>195.324022</td>\n",
       "    </tr>\n",
       "  </tbody>\n",
       "</table>\n",
       "</div>"
      ],
      "text/plain": [
       "parental level of education  associate's degree  bachelor's degree  \\\n",
       "Math                                  67.882883          69.389831   \n",
       "Reading                               70.927928          73.000000   \n",
       "Writing                               69.896396          73.381356   \n",
       "Cumulative                           208.707207         215.771186   \n",
       "\n",
       "parental level of education  high school  master's degree  some college  \\\n",
       "Math                           62.137755        69.745763     67.128319   \n",
       "Reading                        64.704082        75.372881     69.460177   \n",
       "Writing                        62.448980        75.677966     68.840708   \n",
       "Cumulative                    189.290816       220.796610    205.429204   \n",
       "\n",
       "parental level of education  some high school  \n",
       "Math                                63.497207  \n",
       "Reading                             66.938547  \n",
       "Writing                             64.888268  \n",
       "Cumulative                         195.324022  "
      ]
     },
     "execution_count": 97,
     "metadata": {},
     "output_type": "execute_result"
    }
   ],
   "source": [
    "# Print\n",
    "parent_ed_scores"
   ]
  },
  {
   "cell_type": "markdown",
   "metadata": {},
   "source": [
    "It looks like if the parents have some sort of degree, the student will score higher on average than those whose parents do not have a degree. Surprisingly, children of parents that did not finish high school scored better than the children whose parents actually completed high school. Perhaps this is due to those parents realizing the drawbacks of not having a high school diploma and emphasizing the importance of an education to their children.\n",
    "\n",
    "To make the divide between scores from children whose parents have a degree and not, a new yes/no column will be added to show whether or not the parent has a degree."
   ]
  },
  {
   "cell_type": "code",
   "execution_count": 98,
   "metadata": {
    "collapsed": true
   },
   "outputs": [],
   "source": [
    "# If the parental level of education column contains \"degree\", set the value to yes\n",
    "data[\"Degree\"] = data[\"parental level of education\"].apply(\n",
    "    lambda x: \"yes\" if x.find(\"degree\") >= 0 else \"no\")"
   ]
  },
  {
   "cell_type": "code",
   "execution_count": 99,
   "metadata": {
    "collapsed": false
   },
   "outputs": [
    {
     "data": {
      "text/html": [
       "<div>\n",
       "<table border=\"1\" class=\"dataframe\">\n",
       "  <thead>\n",
       "    <tr style=\"text-align: right;\">\n",
       "      <th></th>\n",
       "      <th>gender</th>\n",
       "      <th>race/ethnicity</th>\n",
       "      <th>parental level of education</th>\n",
       "      <th>lunch</th>\n",
       "      <th>test preparation course</th>\n",
       "      <th>math score</th>\n",
       "      <th>reading score</th>\n",
       "      <th>writing score</th>\n",
       "      <th>Cumulative Score</th>\n",
       "      <th>Degree</th>\n",
       "    </tr>\n",
       "  </thead>\n",
       "  <tbody>\n",
       "    <tr>\n",
       "      <th>0</th>\n",
       "      <td>female</td>\n",
       "      <td>group B</td>\n",
       "      <td>bachelor's degree</td>\n",
       "      <td>standard</td>\n",
       "      <td>none</td>\n",
       "      <td>72</td>\n",
       "      <td>72</td>\n",
       "      <td>74</td>\n",
       "      <td>218</td>\n",
       "      <td>yes</td>\n",
       "    </tr>\n",
       "    <tr>\n",
       "      <th>1</th>\n",
       "      <td>female</td>\n",
       "      <td>group C</td>\n",
       "      <td>some college</td>\n",
       "      <td>standard</td>\n",
       "      <td>completed</td>\n",
       "      <td>69</td>\n",
       "      <td>90</td>\n",
       "      <td>88</td>\n",
       "      <td>247</td>\n",
       "      <td>no</td>\n",
       "    </tr>\n",
       "    <tr>\n",
       "      <th>2</th>\n",
       "      <td>female</td>\n",
       "      <td>group B</td>\n",
       "      <td>master's degree</td>\n",
       "      <td>standard</td>\n",
       "      <td>none</td>\n",
       "      <td>90</td>\n",
       "      <td>95</td>\n",
       "      <td>93</td>\n",
       "      <td>278</td>\n",
       "      <td>yes</td>\n",
       "    </tr>\n",
       "    <tr>\n",
       "      <th>3</th>\n",
       "      <td>male</td>\n",
       "      <td>group A</td>\n",
       "      <td>associate's degree</td>\n",
       "      <td>free/reduced</td>\n",
       "      <td>none</td>\n",
       "      <td>47</td>\n",
       "      <td>57</td>\n",
       "      <td>44</td>\n",
       "      <td>148</td>\n",
       "      <td>yes</td>\n",
       "    </tr>\n",
       "    <tr>\n",
       "      <th>4</th>\n",
       "      <td>male</td>\n",
       "      <td>group C</td>\n",
       "      <td>some college</td>\n",
       "      <td>standard</td>\n",
       "      <td>none</td>\n",
       "      <td>76</td>\n",
       "      <td>78</td>\n",
       "      <td>75</td>\n",
       "      <td>229</td>\n",
       "      <td>no</td>\n",
       "    </tr>\n",
       "  </tbody>\n",
       "</table>\n",
       "</div>"
      ],
      "text/plain": [
       "   gender race/ethnicity parental level of education         lunch  \\\n",
       "0  female        group B           bachelor's degree      standard   \n",
       "1  female        group C                some college      standard   \n",
       "2  female        group B             master's degree      standard   \n",
       "3    male        group A          associate's degree  free/reduced   \n",
       "4    male        group C                some college      standard   \n",
       "\n",
       "  test preparation course  math score  reading score  writing score  \\\n",
       "0                    none          72             72             74   \n",
       "1               completed          69             90             88   \n",
       "2                    none          90             95             93   \n",
       "3                    none          47             57             44   \n",
       "4                    none          76             78             75   \n",
       "\n",
       "   Cumulative Score Degree  \n",
       "0               218    yes  \n",
       "1               247     no  \n",
       "2               278    yes  \n",
       "3               148    yes  \n",
       "4               229     no  "
      ]
     },
     "execution_count": 99,
     "metadata": {},
     "output_type": "execute_result"
    }
   ],
   "source": [
    "# View result\n",
    "data.head()"
   ]
  },
  {
   "cell_type": "code",
   "execution_count": 100,
   "metadata": {
    "collapsed": false
   },
   "outputs": [
    {
     "data": {
      "image/png": "[encoded data removed]",
      "text/plain": [
       "<matplotlib.figure.Figure at 0x1e2d7619a58>"
      ]
     },
     "metadata": {},
     "output_type": "display_data"
    }
   ],
   "source": [
    "# Plot again\n",
    "parent_degree_scores = group_scores(data, \"Degree\", color=[\"red\", \"green\"])"
   ]
  },
  {
   "cell_type": "code",
   "execution_count": 101,
   "metadata": {
    "collapsed": false
   },
   "outputs": [
    {
     "data": {
      "text/html": [
       "<div>\n",
       "<table border=\"1\" class=\"dataframe\">\n",
       "  <thead>\n",
       "    <tr style=\"text-align: right;\">\n",
       "      <th>Degree</th>\n",
       "      <th>no</th>\n",
       "      <th>yes</th>\n",
       "    </tr>\n",
       "  </thead>\n",
       "  <tbody>\n",
       "    <tr>\n",
       "      <th>Math</th>\n",
       "      <td>64.419301</td>\n",
       "      <td>68.604010</td>\n",
       "    </tr>\n",
       "    <tr>\n",
       "      <th>Reading</th>\n",
       "      <td>67.158070</td>\n",
       "      <td>72.197995</td>\n",
       "    </tr>\n",
       "    <tr>\n",
       "      <th>Writing</th>\n",
       "      <td>65.579035</td>\n",
       "      <td>71.781955</td>\n",
       "    </tr>\n",
       "    <tr>\n",
       "      <th>Cumulative</th>\n",
       "      <td>197.156406</td>\n",
       "      <td>212.583960</td>\n",
       "    </tr>\n",
       "  </tbody>\n",
       "</table>\n",
       "</div>"
      ],
      "text/plain": [
       "Degree              no         yes\n",
       "Math         64.419301   68.604010\n",
       "Reading      67.158070   72.197995\n",
       "Writing      65.579035   71.781955\n",
       "Cumulative  197.156406  212.583960"
      ]
     },
     "execution_count": 101,
     "metadata": {},
     "output_type": "execute_result"
    }
   ],
   "source": [
    "# View the numbers\n",
    "parent_degree_scores"
   ]
  },
  {
   "cell_type": "code",
   "execution_count": 102,
   "metadata": {
    "collapsed": false
   },
   "outputs": [
    {
     "data": {
      "text/plain": [
       "<matplotlib.axes._subplots.AxesSubplot at 0x1e2d773e320>"
      ]
     },
     "execution_count": 102,
     "metadata": {},
     "output_type": "execute_result"
    },
    {
     "data": {
      "image/png": "[encoded data removed]",
      "text/plain": [
       "<matplotlib.figure.Figure at 0x1e2d772fda0>"
      ]
     },
     "metadata": {},
     "output_type": "display_data"
    }
   ],
   "source": [
    "# A quick plot to see if children whose parents have a degree complete test preparation courses \n",
    "sns.countplot(\"Degree\", data=data, hue=\"test preparation course\")"
   ]
  },
  {
   "cell_type": "markdown",
   "metadata": {},
   "source": [
    "From the data, children whose parents have a degree score better across all three subjects resulting in a mean cumulative difference of around 15 points. This may be due to the parents with degrees valuing education higher than those without and are more willing to help their children out. On the other hand, parents without a degree may have some sort of work that do not require an advanced education. From the data, children whose parents have a degree score better across all three subjects resulting in a mean cumulative difference of around 15 points.\n",
    "\n",
    "The countplot of children whose parents have a degree attempts to see if children have a higher percentage to complete the test preparation course if their parents have a degree. This information can potentially show that parents with a degree have a higher likelihood to make their children complete the test preparation course if the discrepancy is large enough. The following section will be taking a look at the exact percentages and seeing if this is the case."
   ]
  },
  {
   "cell_type": "markdown",
   "metadata": {},
   "source": [
    "## Percentage of Students with Parents Having a Degree That Completed a Test Preparation Course\n"
   ]
  },
  {
   "cell_type": "code",
   "execution_count": 103,
   "metadata": {
    "collapsed": false
   },
   "outputs": [],
   "source": [
    "# Group relevant data\n",
    "group_degree_test_counts = data[[\"Degree\", \"test preparation course\"]].groupby([\"Degree\", \"test preparation course\"])"
   ]
  },
  {
   "cell_type": "code",
   "execution_count": 104,
   "metadata": {
    "collapsed": false
   },
   "outputs": [],
   "source": [
    "# Get the counts using size() and make it into a dataframe\n",
    "group_degree_test_counts = DataFrame(group_degree_test_counts.size().reset_index(name=\"Counts\")).set_index(\"Degree\")"
   ]
  },
  {
   "cell_type": "code",
   "execution_count": 105,
   "metadata": {
    "collapsed": false
   },
   "outputs": [],
   "source": [
    "# Get total number of students in each degree group\n",
    "group_degree_test_sums = group_degree_test_counts.groupby(group_degree_test_counts.index).sum()"
   ]
  },
  {
   "cell_type": "code",
   "execution_count": 106,
   "metadata": {
    "collapsed": true
   },
   "outputs": [],
   "source": [
    "# Rename column\n",
    "group_degree_test_sums.columns = [\"Total Num\"]"
   ]
  },
  {
   "cell_type": "code",
   "execution_count": 107,
   "metadata": {
    "collapsed": true
   },
   "outputs": [],
   "source": [
    "# Join the data\n",
    "group_degree_test = pd.concat([group_degree_test_counts, group_degree_test_sums], axis=1, join=\"inner\")"
   ]
  },
  {
   "cell_type": "code",
   "execution_count": 108,
   "metadata": {
    "collapsed": false
   },
   "outputs": [
    {
     "data": {
      "text/html": [
       "<div>\n",
       "<table border=\"1\" class=\"dataframe\">\n",
       "  <thead>\n",
       "    <tr style=\"text-align: right;\">\n",
       "      <th></th>\n",
       "      <th>test preparation course</th>\n",
       "      <th>Counts</th>\n",
       "      <th>Total Num</th>\n",
       "    </tr>\n",
       "    <tr>\n",
       "      <th>Degree</th>\n",
       "      <th></th>\n",
       "      <th></th>\n",
       "      <th></th>\n",
       "    </tr>\n",
       "  </thead>\n",
       "  <tbody>\n",
       "    <tr>\n",
       "      <th>no</th>\n",
       "      <td>completed</td>\n",
       "      <td>210</td>\n",
       "      <td>601</td>\n",
       "    </tr>\n",
       "    <tr>\n",
       "      <th>no</th>\n",
       "      <td>none</td>\n",
       "      <td>391</td>\n",
       "      <td>601</td>\n",
       "    </tr>\n",
       "    <tr>\n",
       "      <th>yes</th>\n",
       "      <td>completed</td>\n",
       "      <td>148</td>\n",
       "      <td>399</td>\n",
       "    </tr>\n",
       "    <tr>\n",
       "      <th>yes</th>\n",
       "      <td>none</td>\n",
       "      <td>251</td>\n",
       "      <td>399</td>\n",
       "    </tr>\n",
       "  </tbody>\n",
       "</table>\n",
       "</div>"
      ],
      "text/plain": [
       "       test preparation course  Counts  Total Num\n",
       "Degree                                           \n",
       "no                   completed     210        601\n",
       "no                        none     391        601\n",
       "yes                  completed     148        399\n",
       "yes                       none     251        399"
      ]
     },
     "execution_count": 108,
     "metadata": {},
     "output_type": "execute_result"
    }
   ],
   "source": [
    "# View the data\n",
    "group_degree_test"
   ]
  },
  {
   "cell_type": "code",
   "execution_count": 109,
   "metadata": {
    "collapsed": true
   },
   "outputs": [],
   "source": [
    "# Create a new column for the percentage of students\n",
    "group_degree_test[\"Percentage\"] = np.round(group_degree_test[\"Counts\"]/group_degree_test[\"Total Num\"], 2)"
   ]
  },
  {
   "cell_type": "code",
   "execution_count": 110,
   "metadata": {
    "collapsed": false
   },
   "outputs": [
    {
     "data": {
      "text/html": [
       "<div>\n",
       "<table border=\"1\" class=\"dataframe\">\n",
       "  <thead>\n",
       "    <tr style=\"text-align: right;\">\n",
       "      <th></th>\n",
       "      <th>test preparation course</th>\n",
       "      <th>Counts</th>\n",
       "      <th>Total Num</th>\n",
       "      <th>Percentage</th>\n",
       "    </tr>\n",
       "    <tr>\n",
       "      <th>Degree</th>\n",
       "      <th></th>\n",
       "      <th></th>\n",
       "      <th></th>\n",
       "      <th></th>\n",
       "    </tr>\n",
       "  </thead>\n",
       "  <tbody>\n",
       "    <tr>\n",
       "      <th>no</th>\n",
       "      <td>completed</td>\n",
       "      <td>210</td>\n",
       "      <td>601</td>\n",
       "      <td>0.35</td>\n",
       "    </tr>\n",
       "    <tr>\n",
       "      <th>yes</th>\n",
       "      <td>completed</td>\n",
       "      <td>148</td>\n",
       "      <td>399</td>\n",
       "      <td>0.37</td>\n",
       "    </tr>\n",
       "  </tbody>\n",
       "</table>\n",
       "</div>"
      ],
      "text/plain": [
       "       test preparation course  Counts  Total Num  Percentage\n",
       "Degree                                                       \n",
       "no                   completed     210        601        0.35\n",
       "yes                  completed     148        399        0.37"
      ]
     },
     "execution_count": 110,
     "metadata": {},
     "output_type": "execute_result"
    }
   ],
   "source": [
    "# Print out the percentages\n",
    "group_degree_test[group_degree_test[\"test preparation course\"] == \"completed\"]"
   ]
  },
  {
   "cell_type": "markdown",
   "metadata": {},
   "source": [
    "A more granular look at the percentages of students that completed the test preparation course shows that roughly the same percentage of students complete the test preparation course regardless of whether or not the parents have a degree or not.\n",
    "\n",
    "Therefore, it is not the case that those students are scoring better because the parents are making them complete the test preparation course. However, it can still be a case that those parents are helping the students more outside of the classroom and/or trying to teach their children about the benefits of education."
   ]
  },
  {
   "cell_type": "markdown",
   "metadata": {},
   "source": [
    "## Analysis on Lunch Plan (Income) and Student Scores"
   ]
  },
  {
   "cell_type": "code",
   "execution_count": 111,
   "metadata": {
    "collapsed": false
   },
   "outputs": [
    {
     "data": {
      "text/plain": [
       "<matplotlib.axes._subplots.AxesSubplot at 0x1e2d778ca20>"
      ]
     },
     "execution_count": 111,
     "metadata": {},
     "output_type": "execute_result"
    },
    {
     "data": {
      "image/png": "[encoded data removed]",
      "text/plain": [
       "<matplotlib.figure.Figure at 0x1e2d6b4c390>"
      ]
     },
     "metadata": {},
     "output_type": "display_data"
    }
   ],
   "source": [
    "# Checking to see students with free/reduced lunch complete the test preparation course\n",
    "sns.countplot(\"test preparation course\", data=data, hue=\"lunch\")"
   ]
  },
  {
   "cell_type": "code",
   "execution_count": 112,
   "metadata": {
    "collapsed": false
   },
   "outputs": [
    {
     "data": {
      "image/png": "[encoded data removed]",
      "text/plain": [
       "<matplotlib.figure.Figure at 0x1e2d78bda20>"
      ]
     },
     "metadata": {},
     "output_type": "display_data"
    }
   ],
   "source": [
    "# Plot\n",
    "lunch_scores = group_scores(data, \"lunch\", cmap=\"set1\")"
   ]
  },
  {
   "cell_type": "code",
   "execution_count": 113,
   "metadata": {
    "collapsed": false
   },
   "outputs": [
    {
     "data": {
      "text/html": [
       "<div>\n",
       "<table border=\"1\" class=\"dataframe\">\n",
       "  <thead>\n",
       "    <tr style=\"text-align: right;\">\n",
       "      <th>lunch</th>\n",
       "      <th>free/reduced</th>\n",
       "      <th>standard</th>\n",
       "    </tr>\n",
       "  </thead>\n",
       "  <tbody>\n",
       "    <tr>\n",
       "      <th>Math</th>\n",
       "      <td>58.921127</td>\n",
       "      <td>70.034109</td>\n",
       "    </tr>\n",
       "    <tr>\n",
       "      <th>Reading</th>\n",
       "      <td>64.653521</td>\n",
       "      <td>71.654264</td>\n",
       "    </tr>\n",
       "    <tr>\n",
       "      <th>Writing</th>\n",
       "      <td>63.022535</td>\n",
       "      <td>70.823256</td>\n",
       "    </tr>\n",
       "    <tr>\n",
       "      <th>Cumulative</th>\n",
       "      <td>186.597183</td>\n",
       "      <td>212.511628</td>\n",
       "    </tr>\n",
       "  </tbody>\n",
       "</table>\n",
       "</div>"
      ],
      "text/plain": [
       "lunch       free/reduced    standard\n",
       "Math           58.921127   70.034109\n",
       "Reading        64.653521   71.654264\n",
       "Writing        63.022535   70.823256\n",
       "Cumulative    186.597183  212.511628"
      ]
     },
     "execution_count": 113,
     "metadata": {},
     "output_type": "execute_result"
    }
   ],
   "source": [
    "lunch_scores"
   ]
  },
  {
   "cell_type": "markdown",
   "metadata": {},
   "source": [
    "It seems that students on a standard lunch plan score higher than students on a reduced lunch plan on average. Surprisingly, there are still students on a reduced lunch that complete the test preparation course, so it may be the case that the test preparation course does not cost money.\n",
    "\n",
    "As to why the students on a standard lunch plan score higher, it may be due to those students having more resources to exceed. For example, they may not have worries such as making sure they have enough to eat, taking tests while hungry, etc. In addition, some may even have private tutors or some sort of afterschool class to help them improve their scores. In contrast, students on a free/reduced lunch plan may not have the funds to access those resources, and may even be in a worse physical condition than those on a standard lunch plan when taking the tests."
   ]
  },
  {
   "cell_type": "markdown",
   "metadata": {},
   "source": [
    "## Machine Learning to Predict Scores"
   ]
  },
  {
   "cell_type": "code",
   "execution_count": 114,
   "metadata": {
    "collapsed": true
   },
   "outputs": [],
   "source": [
    "# Function to convert the binary categorical fields to 1s and 0s\n",
    "def convert_binary_categorical(df, key_val_dict):\n",
    "    df = df.copy()\n",
    "    for key in key_val_dict:\n",
    "        df[key] = df[key].apply(lambda x: 1 if x == key_val_dict[key] else 0)\n",
    "    return df"
   ]
  },
  {
   "cell_type": "code",
   "execution_count": 115,
   "metadata": {
    "collapsed": true
   },
   "outputs": [],
   "source": [
    "# Mapping the gender, test prep, race, degree as 1\n",
    "mapping_dict = {\"gender\": \"male\", \"Degree\": \"yes\", \"test preparation course\": \"completed\"}"
   ]
  },
  {
   "cell_type": "code",
   "execution_count": 116,
   "metadata": {
    "collapsed": false
   },
   "outputs": [],
   "source": [
    "# Create the dataframe for the binary categorical fields and convert\n",
    "data_binary_x = data[[\"gender\", \"Degree\", \"test preparation course\"]]\n",
    "data_binary_x = convert_binary_categorical(data_binary_x, mapping_dict)"
   ]
  },
  {
   "cell_type": "code",
   "execution_count": 117,
   "metadata": {
    "collapsed": false
   },
   "outputs": [
    {
     "data": {
      "text/html": [
       "<div>\n",
       "<table border=\"1\" class=\"dataframe\">\n",
       "  <thead>\n",
       "    <tr style=\"text-align: right;\">\n",
       "      <th></th>\n",
       "      <th>gender</th>\n",
       "      <th>Degree</th>\n",
       "      <th>test preparation course</th>\n",
       "    </tr>\n",
       "  </thead>\n",
       "  <tbody>\n",
       "    <tr>\n",
       "      <th>0</th>\n",
       "      <td>0</td>\n",
       "      <td>1</td>\n",
       "      <td>0</td>\n",
       "    </tr>\n",
       "    <tr>\n",
       "      <th>1</th>\n",
       "      <td>0</td>\n",
       "      <td>0</td>\n",
       "      <td>1</td>\n",
       "    </tr>\n",
       "    <tr>\n",
       "      <th>2</th>\n",
       "      <td>0</td>\n",
       "      <td>1</td>\n",
       "      <td>0</td>\n",
       "    </tr>\n",
       "    <tr>\n",
       "      <th>3</th>\n",
       "      <td>1</td>\n",
       "      <td>1</td>\n",
       "      <td>0</td>\n",
       "    </tr>\n",
       "    <tr>\n",
       "      <th>4</th>\n",
       "      <td>1</td>\n",
       "      <td>0</td>\n",
       "      <td>0</td>\n",
       "    </tr>\n",
       "  </tbody>\n",
       "</table>\n",
       "</div>"
      ],
      "text/plain": [
       "   gender  Degree  test preparation course\n",
       "0       0       1                        0\n",
       "1       0       0                        1\n",
       "2       0       1                        0\n",
       "3       1       1                        0\n",
       "4       1       0                        0"
      ]
     },
     "execution_count": 117,
     "metadata": {},
     "output_type": "execute_result"
    }
   ],
   "source": [
    "# Check results\n",
    "data_binary_x.head()"
   ]
  },
  {
   "cell_type": "code",
   "execution_count": 118,
   "metadata": {
    "collapsed": true
   },
   "outputs": [],
   "source": [
    "# Create dummies for the non binary categorical field\n",
    "data_non_binary_x = pd.get_dummies(data[\"race/ethnicity\"])"
   ]
  },
  {
   "cell_type": "code",
   "execution_count": 119,
   "metadata": {
    "collapsed": false
   },
   "outputs": [
    {
     "data": {
      "text/html": [
       "<div>\n",
       "<table border=\"1\" class=\"dataframe\">\n",
       "  <thead>\n",
       "    <tr style=\"text-align: right;\">\n",
       "      <th></th>\n",
       "      <th>group A</th>\n",
       "      <th>group B</th>\n",
       "      <th>group C</th>\n",
       "      <th>group D</th>\n",
       "    </tr>\n",
       "  </thead>\n",
       "  <tbody>\n",
       "    <tr>\n",
       "      <th>0</th>\n",
       "      <td>0</td>\n",
       "      <td>1</td>\n",
       "      <td>0</td>\n",
       "      <td>0</td>\n",
       "    </tr>\n",
       "    <tr>\n",
       "      <th>1</th>\n",
       "      <td>0</td>\n",
       "      <td>0</td>\n",
       "      <td>1</td>\n",
       "      <td>0</td>\n",
       "    </tr>\n",
       "    <tr>\n",
       "      <th>2</th>\n",
       "      <td>0</td>\n",
       "      <td>1</td>\n",
       "      <td>0</td>\n",
       "      <td>0</td>\n",
       "    </tr>\n",
       "    <tr>\n",
       "      <th>3</th>\n",
       "      <td>1</td>\n",
       "      <td>0</td>\n",
       "      <td>0</td>\n",
       "      <td>0</td>\n",
       "    </tr>\n",
       "    <tr>\n",
       "      <th>4</th>\n",
       "      <td>0</td>\n",
       "      <td>0</td>\n",
       "      <td>1</td>\n",
       "      <td>0</td>\n",
       "    </tr>\n",
       "  </tbody>\n",
       "</table>\n",
       "</div>"
      ],
      "text/plain": [
       "   group A  group B  group C  group D\n",
       "0        0        1        0        0\n",
       "1        0        0        1        0\n",
       "2        0        1        0        0\n",
       "3        1        0        0        0\n",
       "4        0        0        1        0"
      ]
     },
     "execution_count": 119,
     "metadata": {},
     "output_type": "execute_result"
    }
   ],
   "source": [
    "# Drop a field to prevent over fitting and view\n",
    "data_non_binary_x.drop(\"group E\", axis=1, inplace=True)\n",
    "data_non_binary_x.head()"
   ]
  },
  {
   "cell_type": "code",
   "execution_count": 120,
   "metadata": {
    "collapsed": true
   },
   "outputs": [],
   "source": [
    "# Combine the binary and nonbinary dataframes to get the X data\n",
    "data_x = pd.concat([data_binary_x, data_non_binary_x], axis=1)"
   ]
  },
  {
   "cell_type": "code",
   "execution_count": 121,
   "metadata": {
    "collapsed": false
   },
   "outputs": [
    {
     "data": {
      "text/html": [
       "<div>\n",
       "<table border=\"1\" class=\"dataframe\">\n",
       "  <thead>\n",
       "    <tr style=\"text-align: right;\">\n",
       "      <th></th>\n",
       "      <th>gender</th>\n",
       "      <th>Degree</th>\n",
       "      <th>test preparation course</th>\n",
       "      <th>group A</th>\n",
       "      <th>group B</th>\n",
       "      <th>group C</th>\n",
       "      <th>group D</th>\n",
       "    </tr>\n",
       "  </thead>\n",
       "  <tbody>\n",
       "    <tr>\n",
       "      <th>0</th>\n",
       "      <td>0</td>\n",
       "      <td>1</td>\n",
       "      <td>0</td>\n",
       "      <td>0</td>\n",
       "      <td>1</td>\n",
       "      <td>0</td>\n",
       "      <td>0</td>\n",
       "    </tr>\n",
       "    <tr>\n",
       "      <th>1</th>\n",
       "      <td>0</td>\n",
       "      <td>0</td>\n",
       "      <td>1</td>\n",
       "      <td>0</td>\n",
       "      <td>0</td>\n",
       "      <td>1</td>\n",
       "      <td>0</td>\n",
       "    </tr>\n",
       "    <tr>\n",
       "      <th>2</th>\n",
       "      <td>0</td>\n",
       "      <td>1</td>\n",
       "      <td>0</td>\n",
       "      <td>0</td>\n",
       "      <td>1</td>\n",
       "      <td>0</td>\n",
       "      <td>0</td>\n",
       "    </tr>\n",
       "    <tr>\n",
       "      <th>3</th>\n",
       "      <td>1</td>\n",
       "      <td>1</td>\n",
       "      <td>0</td>\n",
       "      <td>1</td>\n",
       "      <td>0</td>\n",
       "      <td>0</td>\n",
       "      <td>0</td>\n",
       "    </tr>\n",
       "    <tr>\n",
       "      <th>4</th>\n",
       "      <td>1</td>\n",
       "      <td>0</td>\n",
       "      <td>0</td>\n",
       "      <td>0</td>\n",
       "      <td>0</td>\n",
       "      <td>1</td>\n",
       "      <td>0</td>\n",
       "    </tr>\n",
       "  </tbody>\n",
       "</table>\n",
       "</div>"
      ],
      "text/plain": [
       "   gender  Degree  test preparation course  group A  group B  group C  group D\n",
       "0       0       1                        0        0        1        0        0\n",
       "1       0       0                        1        0        0        1        0\n",
       "2       0       1                        0        0        1        0        0\n",
       "3       1       1                        0        1        0        0        0\n",
       "4       1       0                        0        0        0        1        0"
      ]
     },
     "execution_count": 121,
     "metadata": {},
     "output_type": "execute_result"
    }
   ],
   "source": [
    "# View\n",
    "data_x.head()"
   ]
  },
  {
   "cell_type": "code",
   "execution_count": 122,
   "metadata": {
    "collapsed": true
   },
   "outputs": [],
   "source": [
    "# Generate the Y target\n",
    "data_y_math = data[\"math score\"]\n",
    "data_y_reading = data[\"reading score\"]\n",
    "data_y_writing = data[\"writing score\"]"
   ]
  },
  {
   "cell_type": "code",
   "execution_count": 123,
   "metadata": {
    "collapsed": true
   },
   "outputs": [],
   "source": [
    "# Split the x and y into training and testing datasets\n",
    "x_train_math, x_test_math, y_train_math, y_test_math = train_test_split(data_x, data_y_math)\n",
    "x_train_reading, x_test_reading, y_train_reading, y_test_reading = train_test_split(data_x, data_y_reading)\n",
    "x_train_writing, x_test_writing, y_train_writing, y_test_writing = train_test_split(data_x, data_y_writing)"
   ]
  },
  {
   "cell_type": "code",
   "execution_count": 124,
   "metadata": {
    "collapsed": false
   },
   "outputs": [],
   "source": [
    "# Predict the probability of each score occuring\n",
    "clf_math = LogisticRegression()\n",
    "clf_math.fit(x_train_math, y_train_math)\n",
    "y_pred_math = clf_math.predict_proba(x_test_math)"
   ]
  },
  {
   "cell_type": "code",
   "execution_count": 125,
   "metadata": {
    "collapsed": false
   },
   "outputs": [
    {
     "data": {
      "text/plain": [
       "array([[ 0.00432617,  0.00278183,  0.00278183, ...,  0.00560908,\n",
       "         0.00417418,  0.00371369],\n",
       "       [ 0.00233386,  0.00234473,  0.00234473, ...,  0.00469266,\n",
       "         0.00576759,  0.01122897],\n",
       "       [ 0.00181963,  0.00299194,  0.00299194, ...,  0.0036392 ,\n",
       "         0.00432794,  0.00476114],\n",
       "       ..., \n",
       "       [ 0.00241339,  0.00154735,  0.00154735, ...,  0.00474551,\n",
       "         0.00361901,  0.00383321],\n",
       "       [ 0.00256616,  0.00166107,  0.00166107, ...,  0.00319202,\n",
       "         0.00243018,  0.00654133],\n",
       "       [ 0.00082923,  0.00083725,  0.00083725, ...,  0.00232427,\n",
       "         0.00178637,  0.00566638]])"
      ]
     },
     "execution_count": 125,
     "metadata": {},
     "output_type": "execute_result"
    }
   ],
   "source": [
    "# Probability of each score occuring for each row\n",
    "y_pred_math"
   ]
  },
  {
   "cell_type": "code",
   "execution_count": 126,
   "metadata": {
    "collapsed": false
   },
   "outputs": [],
   "source": [
    "# Group the math, reading, and writing score into bins to view easier\n",
    "# 0, 1, 2, 3, 4, 5 corresponds to [0-20), [20-40), [40-60)...\n",
    "data_y_math = np.floor(data_y_math/20)\n",
    "data_y_reading = np.floor(data_y_reading/20)\n",
    "data_y_writing = np.floor(data_y_writing/20)"
   ]
  },
  {
   "cell_type": "code",
   "execution_count": 127,
   "metadata": {
    "collapsed": false
   },
   "outputs": [
    {
     "data": {
      "text/plain": [
       "[array([ 3.,  4.,  2.,  1.,  0.,  5.]),\n",
       " array([ 3.,  4.,  2.,  1.,  0.,  5.]),\n",
       " array([ 3.,  4.,  2.,  1.,  0.,  5.])]"
      ]
     },
     "execution_count": 127,
     "metadata": {},
     "output_type": "execute_result"
    }
   ],
   "source": [
    "# Checking\n",
    "[data_y_math.unique(), data_y_reading.unique(), data_y_writing.unique()]"
   ]
  },
  {
   "cell_type": "code",
   "execution_count": 128,
   "metadata": {
    "collapsed": true
   },
   "outputs": [],
   "source": [
    "# Split into training and testing datasets using the new y data\n",
    "x_train_math, x_test_math, y_train_math, y_test_math = train_test_split(data_x, data_y_math, random_state=42)\n",
    "x_train_reading, x_test_reading, y_train_reading, y_test_reading = train_test_split(data_x, data_y_reading)\n",
    "x_train_writing, x_test_writing, y_train_writing, y_test_writing = train_test_split(data_x, data_y_writing)"
   ]
  },
  {
   "cell_type": "code",
   "execution_count": 129,
   "metadata": {
    "collapsed": false
   },
   "outputs": [],
   "source": [
    "# Predict the bin given the gender, degree, test prep, and group\n",
    "clf_math = LogisticRegression()\n",
    "clf_math.fit(x_train_math, y_train_math)\n",
    "y_pred_math = clf_math.predict(x_test_math)\n",
    "\n",
    "clf_reading = LogisticRegression()\n",
    "clf_reading.fit(x_train_reading, y_train_reading)\n",
    "y_pred_reading = clf_reading.predict(x_test_reading)\n",
    "\n",
    "clf_writing = LogisticRegression()\n",
    "clf_writing.fit(x_train_writing, y_train_writing)\n",
    "y_pred_writing = clf_writing.predict(x_test_writing)"
   ]
  },
  {
   "cell_type": "code",
   "execution_count": 130,
   "metadata": {
    "collapsed": false
   },
   "outputs": [
    {
     "name": "stdout",
     "output_type": "stream",
     "text": [
      "Math: 0.48000 \n",
      "Reading: 0.52400 \n",
      "Writing: 0.47200 \n"
     ]
    }
   ],
   "source": [
    "# Check the accuracy\n",
    "print(\"Math: %.5f \\nReading: %.5f \\nWriting: %.5f \" \n",
    "      %(accuracy_score(y_test_math, y_pred_math), accuracy_score(y_test_reading, y_pred_reading), accuracy_score(y_test_writing, y_pred_writing)))"
   ]
  },
  {
   "cell_type": "markdown",
   "metadata": {},
   "source": [
    "If you just randomly guess a group, you have a 1/5 chance of getting it correct, so using Logistic Regression may be beneficial. However, since the majority of students fall in bin 3 (60-80), it is important to take into account what the accuracy of only guessing bin 3 is for each subject."
   ]
  },
  {
   "cell_type": "markdown",
   "metadata": {},
   "source": [
    "## Probabily of Guessing Correct Bin if Only Choosing Bin 3"
   ]
  },
  {
   "cell_type": "code",
   "execution_count": 131,
   "metadata": {
    "collapsed": false
   },
   "outputs": [],
   "source": [
    "# Function to calculate probability when only choosing 3\n",
    "def calc_percentage(data_array, bin_num):\n",
    "    # Count of bin num in the array/count of all the bins in the array\n",
    "    return (data_array == bin_num).sum()/len(data_array) # data_array == bin_num returns True/False and sum will sum the trues"
   ]
  },
  {
   "cell_type": "code",
   "execution_count": 132,
   "metadata": {
    "collapsed": false
   },
   "outputs": [
    {
     "name": "stdout",
     "output_type": "stream",
     "text": [
      "Math: 0.47600 \n",
      "Reading: 0.53200 \n",
      "Writing: 0.53600 \n"
     ]
    }
   ],
   "source": [
    "# Print accuracy of only guessing 3\n",
    "print(\"Math: %.5f \\nReading: %.5f \\nWriting: %.5f \" \n",
    "      %(calc_percentage(y_test_math, 3), calc_percentage(y_test_reading, 3), calc_percentage(y_test_writing, 3)))"
   ]
  },
  {
   "cell_type": "markdown",
   "metadata": {},
   "source": [
    "Using a logistic regression will perform slightly better than if you were to just guess bin 3 for each student. However, it is not too noticeable a difference, and it is likely that regardless of a student's background, they will score roughly within the same 60-80 range."
   ]
  },
  {
   "cell_type": "markdown",
   "metadata": {},
   "source": [
    "## Summary\n",
    "There are many factors that seem to affect a students performance. For example, on average, a student is expected to do better if they take a test preparation course, if they are on a standard lunch plan, and if their parents have a degree. In addition, the average male performed better than the average female in the math section while the females outperformed the males in the reading and writing sections.\n",
    "\n",
    "As for using machine learning to predict scores, the Logistic Regression model was used, and it performed slightly better than just picking the most frequent bin (bin 3). However, bin 3 encompasses a signficant range of scores from D- to almost B- (60-80). Therefore, since the accuracy score only slightly increased, and the score range that the model predicts is significantly wide, the results of the logistic regression model used in this study may not be too useful."
   ]
  }
 ],
 "metadata": {
  "kernelspec": {
   "display_name": "Python 3",
   "language": "python",
   "name": "python3"
  },
  "language_info": {
   "codemirror_mode": {
    "name": "ipython",
    "version": 3
   },
   "file_extension": ".py",
   "mimetype": "text/x-python",
   "name": "python",
   "nbconvert_exporter": "python",
   "pygments_lexer": "ipython3",
   "version": "3.6.0"
  }
 },
 "nbformat": 4,
 "nbformat_minor": 0
}
